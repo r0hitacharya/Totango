{
 "cells": [
  {
   "cell_type": "markdown",
   "metadata": {
    "ExecuteTime": {
     "end_time": "2023-07-10T11:07:47.849633Z",
     "start_time": "2023-07-10T11:07:46.477640Z"
    }
   },
   "source": [
    "# Totango Attribute Modifier \n",
    "\n",
    "The `Totango_Attribute_Modifier` is a script aimed at providing a streamlined method of updating attributes for a given ID, often the client ID, in Totango. It leverages the capabilities of Totango's Account API provided in the [Integration Hub](https://int-hub.totango.com/) to perform these operations.\n",
    "\n",
    "## Highlights\n",
    "\n",
    "- The script prepares a JSON-formatted body that lists the various attributes to be modified for a particular ID.\n",
    "- By making a call to the Totango Account API, the script initiates the attribute update process.\n",
    "- Once the attribute update process is complete, the script retrieves the corresponding batch ID, which can be used for tracking or reference purposes in the future.\n",
    "- This tool significantly simplifies attribute management in Totango, enabling users to effortlessly keep their data current and accurate.\n"
   ]
  },
  {
   "cell_type": "markdown",
   "metadata": {},
   "source": [
    "# Libraries"
   ]
  },
  {
   "cell_type": "code",
   "execution_count": 1,
   "metadata": {
    "ExecuteTime": {
     "end_time": "2023-07-12T10:24:06.733860Z",
     "start_time": "2023-07-12T10:24:05.676790Z"
    }
   },
   "outputs": [],
   "source": [
    "import json\n",
    "import requests\n",
    "from datetime import datetime"
   ]
  },
  {
   "cell_type": "markdown",
   "metadata": {},
   "source": [
    "# Call"
   ]
  },
  {
   "cell_type": "code",
   "execution_count": 2,
   "metadata": {
    "ExecuteTime": {
     "end_time": "2023-07-12T10:24:07.042981Z",
     "start_time": "2023-07-12T10:24:07.026394Z"
    }
   },
   "outputs": [],
   "source": [
    "#the autherization token needs to be obtained from totango and passed in the header\n",
    "headers = {\n",
    "    'content-type' : 'application/json',\n",
    "    'Authorization': 'PUT YOUR TOKEN HERE',\n",
    "    'service_id' : 'GET THE SERVICE ID FROM TOTANGO UI'\n",
    "}"
   ]
  },
  {
   "cell_type": "code",
   "execution_count": 3,
   "metadata": {
    "ExecuteTime": {
     "end_time": "2023-07-12T10:24:08.507542Z",
     "start_time": "2023-07-12T10:24:08.497039Z"
    }
   },
   "outputs": [],
   "source": [
    "body = {\n",
    "    \"accounts\": [{\n",
    "        \"id\": \"Your ClientID\",\n",
    "        \"attributes\": {\n",
    "            \"SFDC_Segment\": \"Large Cap Account\",\n",
    "            \"Success Manager\": \"Mr Coder\"\n",
    "        }\n",
    "    }]\n",
    "}"
   ]
  },
  {
   "cell_type": "code",
   "execution_count": 4,
   "metadata": {
    "ExecuteTime": {
     "end_time": "2023-07-12T10:24:11.183703Z",
     "start_time": "2023-07-12T10:24:09.969736Z"
    }
   },
   "outputs": [],
   "source": [
    "response = requests.post(\n",
    "    'https://int-hub.totango.com/api/v1/accounts', headers=headers, json=body)"
   ]
  },
  {
   "cell_type": "code",
   "execution_count": 5,
   "metadata": {
    "ExecuteTime": {
     "end_time": "2023-07-12T10:24:11.835039Z",
     "start_time": "2023-07-12T10:24:11.816078Z"
    }
   },
   "outputs": [
    {
     "name": "stdout",
     "output_type": "stream",
     "text": [
      "The attribute was changed successfully on date 2023-07-12 at time 10:24:13.207000 (24-hour format).\n"
     ]
    }
   ],
   "source": [
    "content = json.loads(response.content)\n",
    "status = content.get('status')\n",
    "time_received = content.get('time_received')\n",
    "\n",
    "if status == 'success':\n",
    "    # Separating date and time\n",
    "    dt_object = datetime.strptime(time_received, \"%Y-%m-%dT%H:%M:%S.%fZ\")\n",
    "    date = dt_object.date()\n",
    "    time = dt_object.time()\n",
    "    print(\"The attribute was changed successfully on date {} at time {} (24-hour format).\".format(date, time))\n",
    "    print(\"Batch ID returned by the API:\",batch_id)\n",
    "else:\n",
    "    print(\"The attribute was not changed successfully please rerun/debug the script\")"
   ]
  }
 ],
 "metadata": {
  "kernelspec": {
   "display_name": "Python 3",
   "language": "python",
   "name": "python3"
  },
  "language_info": {
   "codemirror_mode": {
    "name": "ipython",
    "version": 3
   },
   "file_extension": ".py",
   "mimetype": "text/x-python",
   "name": "python",
   "nbconvert_exporter": "python",
   "pygments_lexer": "ipython3",
   "version": "3.8.5"
  }
 },
 "nbformat": 4,
 "nbformat_minor": 2
}
