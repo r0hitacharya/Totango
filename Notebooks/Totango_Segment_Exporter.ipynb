{
 "cells": [
  {
   "cell_type": "markdown",
   "metadata": {
    "ExecuteTime": {
     "end_time": "2022-03-16T02:51:13.993415Z",
     "start_time": "2022-03-16T02:51:13.169917Z"
    },
    "heading_collapsed": true
   },
   "source": [
    "# Totango Segment Data Extraction\n",
    "\n",
    "This script is particularly useful for automating the process of extracting and unpacking segment data from Totango. It makes data analysis and manipulation tasks easier by providing clean, segmented data.\n",
    "\n",
    "## Key Features\n",
    "The script has the capability to extract two types of segment data from Totango: User Segment and Account Segment. Each type has a unique API endpoint to retrieve the data.\n",
    "\n",
    "1. In the Totango UI, you need to generate the specific API endpoint to fetch the data for the respective segment.\n",
    "\n",
    "2. The data received from the API endpoint is in JSON format. It contains a column named selected_fields which encapsulates multiple data points.\n",
    "\n",
    "3. The script unpacks the selected_fields column and splits it into distinct columns for easier data manipulation and analysis."
   ]
  },
  {
   "cell_type": "markdown",
   "metadata": {},
   "source": [
    "# Libraries"
   ]
  },
  {
   "cell_type": "code",
   "execution_count": 1,
   "metadata": {
    "ExecuteTime": {
     "end_time": "2023-07-13T17:12:03.649798Z",
     "start_time": "2023-07-13T17:12:02.693368Z"
    }
   },
   "outputs": [],
   "source": [
    "import datetime\n",
    "import json\n",
    "import pandas as pd\n",
    "import requests\n",
    "from pandas.io.json import json_normalize\n",
    "from flatten_json import flatten\n",
    "pd.set_option('display.max_columns', None)\n",
    "\n",
    "headers = {\n",
    "    'app-token':\n",
    "    'ENTER YOUR TOKEN HERE'\n",
    "}"
   ]
  },
  {
   "cell_type": "markdown",
   "metadata": {},
   "source": [
    "# User Type Segment Call"
   ]
  },
  {
   "cell_type": "code",
   "execution_count": 20,
   "metadata": {
    "ExecuteTime": {
     "end_time": "2023-07-13T17:16:56.074715Z",
     "start_time": "2023-07-13T17:16:56.070695Z"
    }
   },
   "outputs": [],
   "source": [
    "# Initial empty list to store dataframes\n",
    "dataframes = []"
   ]
  },
  {
   "cell_type": "code",
   "execution_count": 21,
   "metadata": {
    "ExecuteTime": {
     "end_time": "2023-07-13T17:16:58.648251Z",
     "start_time": "2023-07-13T17:16:56.539912Z"
    }
   },
   "outputs": [],
   "source": [
    "# Open a new session for sending HTTP requests\n",
    "with requests.session() as session:\n",
    "    # Iterate over a range of numbers, starting at 0, ending at 1000000 (A very high random number), stepping by 1000\n",
    "    for i in range(0, 1000000, 1000):\n",
    "        \n",
    "         # Create a dictionary 'data' to hold the query and team_id, where the query includes an offset \"offset:str(i)\"\n",
    "        data = {\n",
    "            'query': '{\"scope\":\"all\",\"fields\":[{\"attribute\":\"First Name\",\"field_display_name\":\"First Name\",\"type\":\"string_attribute\"},{\"attribute\":\"Last Name\",\"field_display_name\":\"Last Name\",\"type\":\"string_attribute\"},{\"attribute\":\"License\",\"field_display_name\":\"License\",\"type\":\"string_attribute\"},{\"type\":\"string_attribute\",\"attribute\":\"__internal_status\",\"field_display_name\":\"Status\"},{\"type\":\"string_attribute\",\"attribute\":\"__internal_role\",\"field_display_name\":\"Totango Role\"},{\"attribute\":\"__internal_teams\",\"field_display_name\":\"Teams\",\"type\":\"string_attribute\"},{\"attribute\":\"Region\",\"field_display_name\":\"User Region\",\"type\":\"string_attribute\"},{\"attribute\":\"Country\",\"field_display_name\":\"Totango User Country\",\"type\":\"string_attribute\"},{\"attribute\":\"NTT Team\",\"field_display_name\":\"NTT Team\",\"type\":\"string_attribute\"}],\"offset\":'+str(i)+',\"count\":1000,\"terms\":[{\"type\":\"string_attribute\",\"attribute\":\"__internal_status\",\"in_list\":[\"Active\",\"Created\",\"Disabled\"]}]}',\n",
    "            'team_id' : -1\n",
    "        }\n",
    "        \n",
    "        # Post request to the API endpoint with the defined headers and data\n",
    "        response = session.post(\n",
    "            'https://api.totango.com/api/v1/search/users/internal', # See Totango Documentation for URL\n",
    "            headers=headers,\n",
    "            data=data)\n",
    "        \n",
    "        # Check if the request was successful (status code 200), if not raise an error\n",
    "        response.raise_for_status()\n",
    "        data = response.json()\n",
    "        \n",
    "        # Break if the necessary keys are not in the response\n",
    "        if 'response' not in data or 'users' not in data['response'] or 'hits' not in data['response']['users']:\n",
    "            print(\"Cannot find the key users or hits\")\n",
    "            break\n",
    "            \n",
    "        # Convert the 'hits' list to a DataFrame and append to the list of dataframes\n",
    "        dataframes.append(pd.json_normalize(data['response']['users']['hits']))\n",
    "\n",
    "        # If the total number of hits is less than or equal to the current offset + 1000, break the loop\n",
    "        total_hits = data['response']['users']['total_hits']\n",
    "        if total_hits <= i + 1000:\n",
    "            break"
   ]
  },
  {
   "cell_type": "code",
   "execution_count": 22,
   "metadata": {
    "ExecuteTime": {
     "end_time": "2023-07-13T17:16:58.679257Z",
     "start_time": "2023-07-13T17:16:58.650255Z"
    }
   },
   "outputs": [],
   "source": [
    "# Concatenate all the dataframes in the list into a single dataframe\n",
    "data = pd.concat(dataframes, ignore_index=True)"
   ]
  },
  {
   "cell_type": "code",
   "execution_count": 23,
   "metadata": {
    "ExecuteTime": {
     "end_time": "2023-07-13T17:16:58.849414Z",
     "start_time": "2023-07-13T17:16:58.825910Z"
    }
   },
   "outputs": [],
   "source": [
    "#selected_fields contains multiple values in a single columns, hence we need to split the column into individual columns\n",
    "data['selected_fields'] = data['selected_fields'].astype(str)\n",
    "data['selected_fields'] = data['selected_fields'].str.replace('[','').str.replace(']','')"
   ]
  },
  {
   "cell_type": "code",
   "execution_count": 24,
   "metadata": {
    "ExecuteTime": {
     "end_time": "2023-07-13T17:17:00.027101Z",
     "start_time": "2023-07-13T17:16:59.997106Z"
    }
   },
   "outputs": [],
   "source": [
    "#Splitting the selected_fields columns into individual columns\n",
    "data[[\n",
    "    'ENTER', 'COLUMNS', 'NAMES', 'HERE'\n",
    "]] = data['selected_fields'].str.split(\"',\", expand=True)"
   ]
  },
  {
   "cell_type": "markdown",
   "metadata": {},
   "source": [
    "# Account Type Segment Call"
   ]
  },
  {
   "cell_type": "code",
   "execution_count": 55,
   "metadata": {
    "ExecuteTime": {
     "end_time": "2023-07-13T17:22:43.494395Z",
     "start_time": "2023-07-13T17:22:43.479756Z"
    }
   },
   "outputs": [],
   "source": [
    "# Initial empty list to store dataframes\n",
    "dataframes = []"
   ]
  },
  {
   "cell_type": "code",
   "execution_count": 62,
   "metadata": {
    "ExecuteTime": {
     "end_time": "2023-07-13T17:25:08.673710Z",
     "start_time": "2023-07-13T17:24:55.171795Z"
    }
   },
   "outputs": [],
   "source": [
    "# Open a new session for sending HTTP requests\n",
    "with requests.session() as session:\n",
    "    # Iterate over a range of numbers, starting at 0, ending at 1000000, stepping by 1000\n",
    "    for i in range(0, 1000000, 1000):\n",
    "        data = {\n",
    "      'query': ' {\"terms\":[{\"type\":\"string_attribute\",\"attribute\":\"Account Type\",\"in_list\":[\"Contract\"]},{\"type\":\"string_attribute\",\"attribute\":\"Status\",\"in_list\":[\"Active\"]},{\"type\":\"simple_date_attribute\",\"joker\":\"between_next_90_and_200_days\",\"attribute\":\"Contract Renewal Date\"}],\"count\":1000,\"offset\":' + str(i) + ',\"fields\":[{\"type\":\"string_attribute\",\"attribute\":\"DomainName\",\"field_display_name\":\"Client Name\"},{\"type\":\"string_attribute\",\"attribute\":\"DomainCountry\",\"field_display_name\":\"Domain Country\"},{\"type\":\"string_attribute\",\"attribute\":\"Sold To Code\",\"field_display_name\":\"[FIN] Client Sold To Code\"},{\"type\":\"string_attribute\",\"attribute\":\"BU\",\"field_display_name\":\"[FIN] Active BUs\"},{\"type\":\"number_metric\",\"field_display_name\":\"[FIN] ACV - Annual Contract Value (Sum)\",\"metric\":\"sum__contract_value\",\"source\":\"rollup\"},{\"type\":\"simple_date_attribute\",\"attribute\":\"Contract Renewal Date\",\"field_display_name\":\"[FIN] Contract Renewal Date\"},{\"type\":\"string_attribute\",\"attribute\":\"ActualStatus\",\"field_display_name\":\"[FIN] Contract Line Item Status in SAP\"},{\"type\":\"string_attribute\",\"attribute\":\"Contract Header ID\",\"field_display_name\":\"[FIN] SAP Contract Header ID\"},{\"type\":\"string_attribute\",\"attribute\":\"Contract Line ID\",\"field_display_name\":\"[FIN] SAP Contract Line ID\"},{\"type\":\"string_attribute\",\"attribute\":\"Sold To Code\",\"field_display_name\":\"[FIN] Client Sold To Code\"}],\"scope\":\"all\"}'\n",
    "    }\n",
    "\n",
    "        # Create a dictionary 'data' to hold the query and team_id, where the query includes an offset \"offset:str(i)\"\n",
    "        # Code for 'data' goes here...\n",
    "\n",
    "        # Post request to the API endpoint with the defined headers and data\n",
    "        response = session.post(\n",
    "            'https://api.totango.com/api/v1/search/accounts',  # See Totango Documentation for URL\n",
    "            headers=headers,\n",
    "            data=data)\n",
    "\n",
    "        # Check if the request was successful (status code 200), if not raise an error\n",
    "        response.raise_for_status()\n",
    "        data = response.json()\n",
    "\n",
    "        # Break if the necessary keys are not in the response\n",
    "        if 'response' not in data or 'accounts' not in data['response'] or 'hits' not in data['response']['accounts']:\n",
    "            print(\"Cannot find the key accounts or hits\")\n",
    "            break\n",
    "\n",
    "        # Convert the 'hits' list to a DataFrame and append to the list of dataframes\n",
    "        dataframes.append(pd.json_normalize(data['response']['accounts']['hits']))\n",
    "\n",
    "        # If the total number of hits is less than or equal to the current offset + 1000, break the loop\n",
    "        total_hits = data['response']['accounts']['total_hits']\n",
    "        if total_hits <= i + 1000:\n",
    "            break"
   ]
  },
  {
   "cell_type": "code",
   "execution_count": 64,
   "metadata": {
    "ExecuteTime": {
     "end_time": "2023-07-13T17:25:30.651105Z",
     "start_time": "2023-07-13T17:25:30.628610Z"
    }
   },
   "outputs": [],
   "source": [
    "data = pd.concat(dataframes, ignore_index=True)"
   ]
  },
  {
   "cell_type": "code",
   "execution_count": 66,
   "metadata": {
    "ExecuteTime": {
     "end_time": "2023-07-13T17:26:03.030707Z",
     "start_time": "2023-07-13T17:26:02.901152Z"
    }
   },
   "outputs": [],
   "source": [
    "#selected_fields contains multiple values in a single columns, hence we need to split the column into individual columns\n",
    "data['selected_fields'] = data['selected_fields'].astype(str)\n",
    "data['selected_fields'] = data['selected_fields'].str.replace('[','').str.replace(']','')\n",
    "\n",
    "#Splitting the selected_fields columns into individual columns\n",
    "data[[\n",
    "    'ENTER', 'COLUMNS', 'NAMES', 'HERE'\n",
    "]] = data['selected_fields'].str.split(\"',\", expand=True)"
   ]
  }
 ],
 "metadata": {
  "kernelspec": {
   "display_name": "Python 3",
   "language": "python",
   "name": "python3"
  },
  "language_info": {
   "codemirror_mode": {
    "name": "ipython",
    "version": 3
   },
   "file_extension": ".py",
   "mimetype": "text/x-python",
   "name": "python",
   "nbconvert_exporter": "python",
   "pygments_lexer": "ipython3",
   "version": "3.8.5"
  }
 },
 "nbformat": 4,
 "nbformat_minor": 4
}
