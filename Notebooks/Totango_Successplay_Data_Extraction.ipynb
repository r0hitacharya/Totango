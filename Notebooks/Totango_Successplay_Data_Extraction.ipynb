{
 "cells": [
  {
   "cell_type": "markdown",
   "metadata": {
    "heading_collapsed": true
   },
   "source": [
    "# Totango SuccessPlay Data Extraction\n",
    "\n",
    "## Summary\n",
    "This script is designed to automate the extraction of SuccessPlay statistics from Totango, utilizing the app.totango.com/api/v3/tasks/export/csv?query API. The key feature is the conversion of manual data extraction process from the UI into an automated script-based approach.\n",
    "\n",
    "## Key Features\n",
    "\n",
    "1. Utilizes Totango's tasks/export API to fetch SuccessPlay data.\n",
    "\n",
    "2. The script makes use of a GET request with query parameters that can be obtained from the browser URL when downloading SuccessPlay data manually.\n",
    "\n",
    "3. Automates the extraction of SuccessPlay data, saving time and providing an easily repeatable process.\n",
    "\n",
    "4. Allows easy integration of the data extraction process into larger workflows.\n",
    "\n",
    "5. Enables possibilities for in-depth analysis, reporting, and optimization of customer success strategies."
   ]
  },
  {
   "cell_type": "markdown",
   "metadata": {},
   "source": [
    "# Libraries"
   ]
  },
  {
   "cell_type": "code",
   "execution_count": 1,
   "metadata": {
    "ExecuteTime": {
     "end_time": "2023-07-10T17:20:21.130555Z",
     "start_time": "2023-07-10T17:20:19.152892Z"
    }
   },
   "outputs": [],
   "source": [
    "import csv\n",
    "import datetime\n",
    "import io\n",
    "import json\n",
    "import pandas as pd\n",
    "import requests\n",
    "import sqlalchemy\n",
    "from pandas.io.json import json_normalize\n",
    "from sqlalchemy import event\n",
    "import pyodbc\n",
    "import sqlalchemy as db"
   ]
  },
  {
   "cell_type": "markdown",
   "metadata": {},
   "source": [
    "# API Calls"
   ]
  },
  {
   "cell_type": "code",
   "execution_count": 2,
   "metadata": {
    "ExecuteTime": {
     "end_time": "2023-07-10T17:20:21.161597Z",
     "start_time": "2023-07-10T17:20:21.135551Z"
    }
   },
   "outputs": [],
   "source": [
    "#the autherization token needs to be obtained from totango and passed in the header\n",
    "headers = {\n",
    "    'app-token':\n",
    "    'd993936ceaf0b573e1319e8add89f1f7c47467a8rohit.acharya@global.ntt',\n",
    "}"
   ]
  },
  {
   "cell_type": "code",
   "execution_count": 10,
   "metadata": {
    "ExecuteTime": {
     "end_time": "2023-07-10T17:22:28.376174Z",
     "start_time": "2023-07-10T17:22:07.621756Z"
    }
   },
   "outputs": [],
   "source": [
    "# This API call retrieves the data from the Totango service.\n",
    "# It queries for tasks with specific 'automation_id' values, and orders the output by 'automation_id'.\n",
    "# It also specifies the fields (columns) to be included in the output CSV file.\n",
    "\n",
    "data = requests.get(\n",
    "    'https://app.totango.com/api/v3/tasks/export/csv?query={%22automation_id%22:[%22ec14ee5a-1199-429d-8993-8d00387a93ac%22,%22a08873d9-55bc-494d-bf79-6d88078913fc%22,%22aa905794-b48a-43e8-81ff-1fab2c4429e8%22,%225d7a6802-efd9-48d0-a329-68a3d623a5b7%22,%2276c2b0a5-66e7-44c3-9c5c-756da34ff927%22,%22045e9c27-cb71-44fe-b0dc-55ed5df1bef0%22,%22b25ccfe0-366b-4508-bf8a-7f7fa90de2cd%22],%22orderBy%22:%22automation_id%22}&fields=[{%22value%22:%22name%22,%22label%22:%22Success%20Play%22},{%22value%22:%22title%22,%22label%22:%22Task%20Title%22},{%22value%22:%22description%22,%22label%22:%22Task%20Description%22},{%22value%22:%22account_display_name%22,%22label%22:%22Account%20Name%22},{%22value%22:%22account_id%22,%22label%22:%22Account%20ID%22},{%22value%22:%22parent_id%22,%22label%22:%22Parent%20Account%20ID%22},{%22value%22:%22status%22,%22label%22:%22Status%22},{%22value%22:%22assignee%22,%22label%22:%22Assigned%20To%22},{%22value%22:%22assigner%22,%22label%22:%22Assigned%20By%22},{%22value%22:%22priority%22,%22label%22:%22Priority%22},{%22value%22:%22create_date%22,%22label%22:%22Date%20Created%22},{%22value%22:%22completed_date%22,%22label%22:%22Date%20Completed%22},{%22value%22:%22due_date%22,%22label%22:%22Due%20Date%22}]&fileName=SuccessPlays',\n",
    "    headers=headers)\n",
    "\n",
    "# The response from the API call is a string representing a CSV file.\n",
    "# This string is converted into a file-like object using 'io.StringIO', and then read into a pandas DataFrame.\n",
    "call_one = pd.read_csv(io.StringIO(data.text))\n",
    "\n",
    "\n",
    "# This API call retrieves different data from the Totango service.\n",
    "# It queries for tasks associated with a specific 'sbId' value (930), and orders the output by 'automation_id'.\n",
    "# It does not specify the fields to be included, so the default fields will be included in the output CSV file.\n",
    "data = requests.get(\n",
    "    'https://app.totango.com/api/v3/tasks/export/csv?query={%22sbId%22:930,%22orderBy%22:%22automation_id%22}&fileName=SuccessPlays',\n",
    "    headers=headers)\n",
    "\n",
    "# Again, the response from the API call is read into a pandas DataFrame.\n",
    "call_two = pd.read_csv(io.StringIO(data.text))\n"
   ]
  },
  {
   "cell_type": "markdown",
   "metadata": {},
   "source": [
    "## All Successplays"
   ]
  },
  {
   "cell_type": "code",
   "execution_count": 11,
   "metadata": {
    "ExecuteTime": {
     "end_time": "2023-07-10T17:22:52.779616Z",
     "start_time": "2023-07-10T17:22:52.755615Z"
    }
   },
   "outputs": [
    {
     "name": "stdout",
     "output_type": "stream",
     "text": [
      "Concatenation of Successplays from all regions Finished\n"
     ]
    }
   ],
   "source": [
    "#Successplays needs to be sourced from different groups in totango which can be concatenated in this step\n",
    "successplays = pd.concat([call_one, call_two], sort=False, ignore_index=True)\n",
    "print(\"Concatenation of Successplays from all regions Finished\")"
   ]
  },
  {
   "cell_type": "code",
   "execution_count": 12,
   "metadata": {
    "ExecuteTime": {
     "end_time": "2023-07-10T17:22:53.911948Z",
     "start_time": "2023-07-10T17:22:53.895436Z"
    }
   },
   "outputs": [
    {
     "name": "stdout",
     "output_type": "stream",
     "text": [
      "['Success Play', 'Task Id', 'Task Title', 'Task Description', 'Account Name', 'Account ID', 'Parent Account ID', 'Status', 'Assigned To', 'Assigned By', 'Priority', 'Date Created', 'Date Completed', 'Due Date']\n"
     ]
    }
   ],
   "source": [
    "#This is the sample list of all columns available in a successplay data dump\n",
    "print(successplays.columns.tolist())"
   ]
  },
  {
   "cell_type": "markdown",
   "metadata": {},
   "source": [
    "# Rename and Assign proper data types"
   ]
  },
  {
   "cell_type": "code",
   "execution_count": 7,
   "metadata": {
    "ExecuteTime": {
     "end_time": "2023-07-10T17:21:43.692551Z",
     "start_time": "2023-07-10T17:21:43.673515Z"
    }
   },
   "outputs": [],
   "source": [
    "#rename columns to remove space in between column names\n",
    "successplays.rename(columns={\n",
    "    'Success Play':'success_play',\n",
    "    'Task Description':'task_description',\n",
    "    'Account Name':'account_name',\n",
    " 'Account ID':'account_id',\n",
    " 'Parent Account ID':'parent_account_id',\n",
    " 'Status':'status',\n",
    " 'Assigned To':'assigned_to',\n",
    " 'Assigned By':'assigned_by',\n",
    " 'Priority':'priority',\n",
    " 'Date Created':'date_created',\n",
    " 'Date Completed':'date_completed',\n",
    " 'Due Date':'due_date',\n",
    " 'Task Title':'task_title'\n",
    "},inplace=True)"
   ]
  },
  {
   "cell_type": "code",
   "execution_count": 8,
   "metadata": {
    "ExecuteTime": {
     "end_time": "2023-07-10T17:21:45.830680Z",
     "start_time": "2023-07-10T17:21:45.779388Z"
    }
   },
   "outputs": [],
   "source": [
    "# Remove rows from the 'successplays' DataFrame where 'due_date' is 'Invalid date'\n",
    "successplays = successplays[successplays.due_date != 'Invalid date']\n",
    "\n",
    "# Convert the 'date_created' column from string type to datetime type\n",
    "successplays.date_created = pd.to_datetime(successplays.date_created)\n",
    "\n",
    "# Convert the 'date_completed' column from string type to datetime type\n",
    "successplays.date_completed = pd.to_datetime(successplays.date_completed)\n",
    "\n",
    "# Convert the 'due_date' column from string type to datetime type\n",
    "successplays.due_date = pd.to_datetime(successplays.due_date)\n",
    "\n",
    "# Add a new column 'refreshed_date' to the 'successplays' DataFrame, setting its value to today's date\n",
    "# This can be useful for tracking when the DataFrame was last updated\n",
    "successplays['refreshed_date'] = pd.to_datetime('today')\n",
    "\n",
    "# Remove the time part from the 'refreshed_date' column, keeping only the date\n",
    "# This is because SQL Server doesn't support DateTime with timezone information, and the time part isn't necessary in this case\n",
    "successplays['refreshed_date'] = successplays['refreshed_date'].dt.date\n",
    "\n",
    "# Raw Data for Export\n",
    "successplays.to_csv(\n",
    "     'Successplays.csv',index=False\n",
    ")"
   ]
  }
 ],
 "metadata": {
  "kernelspec": {
   "display_name": "Python 3",
   "language": "python",
   "name": "python3"
  },
  "language_info": {
   "codemirror_mode": {
    "name": "ipython",
    "version": 3
   },
   "file_extension": ".py",
   "mimetype": "text/x-python",
   "name": "python",
   "nbconvert_exporter": "python",
   "pygments_lexer": "ipython3",
   "version": "3.8.5"
  }
 },
 "nbformat": 4,
 "nbformat_minor": 2
}
