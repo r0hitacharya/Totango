{
 "cells": [
  {
   "cell_type": "markdown",
   "metadata": {},
   "source": [
    "# Python Script for Fetching and Processing Totango API Data\n",
    "\n",
    "This script serves as a comprehensive Python solution for fetching user data from the Totango Search API, followed by data cleaning, preprocessing, and ultimately converting it into a DataFrame for further data manipulation or analysis.\n",
    "\n",
    "## Key Functions of the Script:\n",
    "\n",
    "1. API Data Fetching: The script initiates an API request to fetch the user data. It handles paginated results iteratively to gather a comprehensive dataset.\n",
    "\n",
    "2. Timestamp Conversion: The Unix timestamp from the 'first_activity_time' field is converted into a more readable datetime format.\n",
    "\n",
    "3. Data Cleaning: The script removes all single quote characters from the data to prevent potential issues in subsequent data processing or analysis tasks."
   ]
  },
  {
   "cell_type": "markdown",
   "metadata": {},
   "source": [
    "# Libraries and Headers"
   ]
  },
  {
   "cell_type": "code",
   "execution_count": 52,
   "metadata": {
    "ExecuteTime": {
     "end_time": "2023-07-07T07:56:36.160429Z",
     "start_time": "2023-07-07T07:56:36.145900Z"
    }
   },
   "outputs": [],
   "source": [
    "import requests\n",
    "import pandas as pd\n",
    "\n",
    "#Please note that you need to be an totango admin\n",
    "headers = {\n",
    "    'app-token': 'YOUR_APP_TOKEN_HERE',  # Please insert your key from Totango here\n",
    "    'ContentType': 'application/x-www-form-urlencoded'\n",
    "}"
   ]
  },
  {
   "cell_type": "markdown",
   "metadata": {},
   "source": [
    "# Loop"
   ]
  },
  {
   "cell_type": "code",
   "execution_count": 53,
   "metadata": {
    "ExecuteTime": {
     "end_time": "2023-07-07T07:56:37.075302Z",
     "start_time": "2023-07-07T07:56:37.069281Z"
    }
   },
   "outputs": [],
   "source": [
    "# Initial empty list to store dataframes\n",
    "dataframes = []"
   ]
  },
  {
   "cell_type": "code",
   "execution_count": 57,
   "metadata": {
    "ExecuteTime": {
     "end_time": "2023-07-07T07:59:39.268430Z",
     "start_time": "2023-07-07T07:59:36.986054Z"
    }
   },
   "outputs": [],
   "source": [
    "# Open a new session for sending HTTP requests\n",
    "with requests.session() as session:\n",
    "    # Iterate over a range of numbers, starting at 0, ending at 1000000 (A very high random number), stepping by 1000\n",
    "    for i in range(0, 1000000, 1000):\n",
    "        \n",
    "         # Create a dictionary 'data' to hold the query and team_id, where the query includes an offset \"offset:str(i)\"\n",
    "        data = {\n",
    "            'query': '{\"scope\":\"all\",\"fields\":[{\"attribute\":\"First Name\",\"field_display_name\":\"First Name\",\"type\":\"string_attribute\"},{\"attribute\":\"Last Name\",\"field_display_name\":\"Last Name\",\"type\":\"string_attribute\"},{\"attribute\":\"License\",\"field_display_name\":\"License\",\"type\":\"string_attribute\"},{\"type\":\"string_attribute\",\"attribute\":\"__internal_status\",\"field_display_name\":\"Status\"},{\"type\":\"string_attribute\",\"attribute\":\"__internal_role\",\"field_display_name\":\"Totango Role\"},{\"attribute\":\"__internal_teams\",\"field_display_name\":\"Teams\",\"type\":\"string_attribute\"},{\"attribute\":\"Region\",\"field_display_name\":\"User Region\",\"type\":\"string_attribute\"},{\"attribute\":\"Country\",\"field_display_name\":\"Totango User Country\",\"type\":\"string_attribute\"},{\"attribute\":\"NTT Team\",\"field_display_name\":\"NTT Team\",\"type\":\"string_attribute\"}],\"offset\":'+str(i)+',\"count\":1000,\"terms\":[{\"type\":\"string_attribute\",\"attribute\":\"__internal_status\",\"in_list\":[\"Active\",\"Created\",\"Disabled\"]}]}',\n",
    "            'team_id' : -1\n",
    "        }\n",
    "        \n",
    "        # Post request to the API endpoint with the defined headers and data\n",
    "        response = session.post(\n",
    "            'https://api.totango.com/api/v1/search/users/internal', # See Totango Documentation for URL\n",
    "            headers=headers,\n",
    "            data=data)\n",
    "        \n",
    "        # Check if the request was successful (status code 200), if not raise an error\n",
    "        response.raise_for_status()\n",
    "        data = response.json()\n",
    "        \n",
    "        # Break if the necessary keys are not in the response\n",
    "        if 'response' not in data or 'users' not in data['response'] or 'hits' not in data['response']['users']:\n",
    "            print(\"Cannot find the key users or hits\")\n",
    "            break\n",
    "            \n",
    "        # Convert the 'hits' list to a DataFrame and append to the list of dataframes\n",
    "        dataframes.append(pd.json_normalize(data['response']['users']['hits']))\n",
    "\n",
    "        # If the total number of hits is less than or equal to the current offset + 1000, break the loop\n",
    "        total_hits = data['response']['users']['total_hits']\n",
    "        if total_hits <= i + 1000:\n",
    "            break"
   ]
  },
  {
   "cell_type": "markdown",
   "metadata": {},
   "source": [
    "# Consolidating the Looped Data"
   ]
  },
  {
   "cell_type": "code",
   "execution_count": 61,
   "metadata": {
    "ExecuteTime": {
     "end_time": "2023-07-07T08:01:51.225471Z",
     "start_time": "2023-07-07T08:01:51.166430Z"
    }
   },
   "outputs": [],
   "source": [
    "# Concatenate all the dataframes in the list into a single dataframe\n",
    "data = pd.concat(dataframes, ignore_index=True)\n",
    "\n",
    "#selected_fields contains multiple values in a single columns, hence we need to split the column into individual columns\n",
    "data['selected_fields'] = data['selected_fields'].astype(str)\n",
    "data['selected_fields'] = data['selected_fields'].str.replace('[','').str.replace(']','')\n",
    "\n",
    "#Splitting the selected_fields columns into individual columns\n",
    "data[[\n",
    "    'first_name', 'last_name', 'license', 'status', 'totango_role', 'teams',\n",
    "    'user_region', 'totango_user_country', 'ntt_team'\n",
    "]] = data['selected_fields'].str.split(\"',\", expand=True)\n",
    "\n",
    "data['name'] = data['first_name'] +' '+data['last_name']"
   ]
  },
  {
   "cell_type": "markdown",
   "metadata": {},
   "source": [
    "# Cleaning"
   ]
  },
  {
   "cell_type": "code",
   "execution_count": 62,
   "metadata": {
    "ExecuteTime": {
     "end_time": "2023-07-07T08:01:52.818631Z",
     "start_time": "2023-07-07T08:01:52.799637Z"
    }
   },
   "outputs": [],
   "source": [
    "# 'first_activity_time' is assumed to be a Unix timestamp in milliseconds.\n",
    "# First, convert it to days by dividing it by the number of milliseconds in a day (86400000).\n",
    "# Add this to 25569, which is the number of days between the Unix epoch (1970-01-01) and the Excel epoch (1900-01-01, 0-indexed).\n",
    "# Subtract 1 because Unix epoch is 1-indexed. This gives us the number of days since the Excel epoch.\n",
    "# Convert this to a TimedeltaIndex, which represents a duration or elapsed time.\n",
    "# Add the Excel epoch (1900-01-01) to get the correct date.\n",
    "\n",
    "data['first_activity_time'] = pd.TimedeltaIndex((25569 + data.first_activity_time.divide(86400000))-1, unit='d') + datetime.datetime(1900,1,1)\n",
    "data['first_activity_time'] = data['first_activity_time'].dt.date\n",
    "\n",
    "data['last_activity_time'] = pd.TimedeltaIndex((25569 + data.last_activity_time.divide(86400000))-1, unit='d') + datetime.datetime(1900,1,1)\n",
    "data['last_activity_time'] = data['last_activity_time'].dt.date"
   ]
  },
  {
   "cell_type": "code",
   "execution_count": 66,
   "metadata": {
    "ExecuteTime": {
     "end_time": "2023-07-07T08:04:14.850529Z",
     "start_time": "2023-07-07T08:04:14.768008Z"
    }
   },
   "outputs": [],
   "source": [
    "# Iterate over the DataFrame's columns with their corresponding index\n",
    "for i, col in enumerate(data.columns):\n",
    "    # For each column, convert the entire column to string type\n",
    "    # and then replace single quotes with nothing.\n",
    "    # data.iloc[:, i] is used to select the i-th column of the DataFrame.\n",
    "    data.iloc[:, i] = data.iloc[:, i].astype(str).str.replace(\"'\", '')"
   ]
  }
 ],
 "metadata": {
  "celltoolbar": "Raw Cell Format",
  "kernelspec": {
   "display_name": "Python 3",
   "language": "python",
   "name": "python3"
  },
  "language_info": {
   "codemirror_mode": {
    "name": "ipython",
    "version": 3
   },
   "file_extension": ".py",
   "mimetype": "text/x-python",
   "name": "python",
   "nbconvert_exporter": "python",
   "pygments_lexer": "ipython3",
   "version": "3.8.5"
  }
 },
 "nbformat": 4,
 "nbformat_minor": 4
}
