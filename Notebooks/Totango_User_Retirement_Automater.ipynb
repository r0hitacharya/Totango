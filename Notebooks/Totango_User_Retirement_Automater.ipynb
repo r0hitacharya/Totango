{
 "cells": [
  {
   "cell_type": "markdown",
   "metadata": {
    "ExecuteTime": {
     "end_time": "2022-10-06T05:38:18.101516Z",
     "start_time": "2022-10-06T05:38:18.084514Z"
    }
   },
   "source": [
    "# Totango User Retirement Automater\n",
    "\n",
    "This script is designed to facilitate the decommissioning of users in Totango. The primary steps include:\n",
    "\n",
    "- Utilizes the `oauth2/api/v1/token` endpoint to acquire a temporary admin token.\n",
    "- With this token, the script interacts with the `https://api.totango.com/api/v2/scim/services/12345` SCIM service to execute the decommissioning process.\n",
    "- Efficient user management: This script can handle the deactivation of numerous user accounts simultaneously, making it especially beneficial for multinational corporations that need to manage large volumes of users.\n",
    "\n",
    "> **Note**: The SCIM service needs to be enabled in the Totango Admin section for this script to function properly.\n",
    "\n",
    "More about the functionality and how to manage Totango users can be found in the official [Totango documentation](https://support.totango.com/hc/en-us/articles/360021860392-Manage-Totango-users).\n"
   ]
  },
  {
   "cell_type": "markdown",
   "metadata": {},
   "source": [
    "# Libraries"
   ]
  },
  {
   "cell_type": "code",
   "execution_count": 1,
   "metadata": {
    "ExecuteTime": {
     "end_time": "2023-07-13T16:26:49.627408Z",
     "start_time": "2023-07-13T16:26:48.040405Z"
    }
   },
   "outputs": [],
   "source": [
    "import datetime\n",
    "import json\n",
    "import requests\n",
    "import warnings\n",
    "import base64\n",
    "warnings.filterwarnings('ignore')\n",
    "from dateutil.relativedelta import relativedelta"
   ]
  },
  {
   "cell_type": "code",
   "execution_count": 2,
   "metadata": {
    "ExecuteTime": {
     "end_time": "2023-07-13T16:26:49.642903Z",
     "start_time": "2023-07-13T16:26:49.630409Z"
    }
   },
   "outputs": [
    {
     "name": "stdout",
     "output_type": "stream",
     "text": [
      "Snapshot for 2023-07-14\n"
     ]
    }
   ],
   "source": [
    "#determine script run time\n",
    "today = datetime.date.today()\n",
    "print(f\"Snapshot for {today}\")"
   ]
  },
  {
   "cell_type": "code",
   "execution_count": 3,
   "metadata": {
    "ExecuteTime": {
     "end_time": "2023-07-13T16:26:49.658405Z",
     "start_time": "2023-07-13T16:26:49.646904Z"
    }
   },
   "outputs": [],
   "source": [
    "headers = {\n",
    "    'app-token': 'ENTER YOUR TOKEN HERE',\n",
    "    'ContentType': 'application/x-www-form-urlencoded'\n",
    "}"
   ]
  },
  {
   "cell_type": "code",
   "execution_count": null,
   "metadata": {},
   "outputs": [],
   "source": [
    "# Set the base URL\n",
    "base_url = 'https://app.totango.com/t01/on'\n",
    "\n",
    "# Set the endpoint for obtaining an OAuth token\n",
    "token_endpoint = f'{base_url}/oauth2/api/v1/token'\n",
    "\n",
    "# Set the grant type\n",
    "grant_type = 'client_credentials'\n",
    "\n",
    "# Set the credentials for basic authentication\n",
    "username = 'ENTER YOUR ADMIN EMAIL HERE'\n",
    "password = 'ENTER YOUR PASSWORD HERE*'\n",
    "credentials = f'{username}:{password}'\n",
    "encoded_credentials = base64.b64encode(credentials.encode()).decode()\n",
    "\n",
    "# Set the headers\n",
    "headers = {'Authorization': f'Basic {encoded_credentials}'}\n",
    "\n",
    "# Set the data for the token request\n",
    "data = {'grant_type': grant_type}\n",
    "\n",
    "# Send the token request\n",
    "response = requests.post(token_endpoint, headers=headers, data=data)\n",
    "\n",
    "# Check the response status code\n",
    "if response.status_code == 200:\n",
    "    # Print the response JSON\n",
    "    response_json = response.json()\n",
    "    access_token = response_json['access_token']\n",
    "    print(f'The access token is: {access_token}')\n",
    "else:\n",
    "    print(f'Request failed with status code {response.status_code}')"
   ]
  },
  {
   "cell_type": "code",
   "execution_count": 5,
   "metadata": {
    "ExecuteTime": {
     "end_time": "2023-07-13T16:27:12.665117Z",
     "start_time": "2023-07-13T16:27:11.517578Z"
    }
   },
   "outputs": [
    {
     "name": "stdout",
     "output_type": "stream",
     "text": [
      "Request failed with status code 404.\n"
     ]
    }
   ],
   "source": [
    "# Set the base URL\n",
    "base_url = 'https://api.totango.com/api/v2/scim/services/12345'\n",
    "\n",
    "# Set the endpoint for updating a user\n",
    "user_id = 'testing@gmail.com'\n",
    "update_endpoint = f'{base_url}/Users/{user_id}'\n",
    "\n",
    "# Set the authentication token\n",
    "auth_token = access_token\n",
    "headers = {'Authorization': f'Bearer {auth_token}', 'Content-Type': 'application/scim+json'}\n",
    "\n",
    "# Set the data for the patch request\n",
    "data = {\n",
    "    'schemas': ['urn:ietf:params:scim:api:messages:2.0:PatchOp'],\n",
    "    'Operations': [\n",
    "        {\n",
    "            'op': 'replace',\n",
    "            'path': 'active',\n",
    "            'value': 'false'\n",
    "        }\n",
    "    ]\n",
    "}\n",
    "\n",
    "# Send the patch request\n",
    "response = requests.patch(update_endpoint, json=data, headers=headers)\n",
    "\n",
    "# Check the response status code\n",
    "if response.status_code == 200:\n",
    "    print(f'The user {user_id} has been disabled.')\n",
    "else:\n",
    "    print(f'Request failed with status code {response.status_code}.')"
   ]
  }
 ],
 "metadata": {
  "kernelspec": {
   "display_name": "Python 3",
   "language": "python",
   "name": "python3"
  },
  "language_info": {
   "codemirror_mode": {
    "name": "ipython",
    "version": 3
   },
   "file_extension": ".py",
   "mimetype": "text/x-python",
   "name": "python",
   "nbconvert_exporter": "python",
   "pygments_lexer": "ipython3",
   "version": "3.8.5"
  }
 },
 "nbformat": 4,
 "nbformat_minor": 4
}
