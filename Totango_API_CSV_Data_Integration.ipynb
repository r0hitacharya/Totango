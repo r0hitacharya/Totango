{
 "cells": [
  {
   "cell_type": "markdown",
   "metadata": {
    "ExecuteTime": {
     "end_time": "2023-07-10T11:01:10.270833Z",
     "start_time": "2023-07-10T11:01:10.039681Z"
    }
   },
   "source": [
    "# Totango API CSV Data Integration \n",
    "\n",
    "This script automates the process of uploading data to Totango by triggering an API endpoint. This approach allows you to start uploading your data to Totango immediately after your in-house data preparation process finishes, increasing efficiency and reducing manual work.\n",
    "\n",
    "The Python script performs the following operations:\n",
    "\n",
    "1. **Reads data from a CSV file:** The script reads a CSV file from a provided file path. Each row of the CSV file represents an account, with various attributes of the account represented as columns.\n",
    "\n",
    "2. **Processes the CSV data:** The script processes the CSV data line by line, constructing a JSON object for each account. It bundles these JSON objects into groups defined by a `PROCESSED_LIMIT`, which is a predefined constant that determines how many accounts should be processed at a time.\n",
    "\n",
    "3. **Sends data to the Totango API:** For each group of accounts, the script sends a POST request to a specific Totango API endpoint. The POST request includes the account data in JSON format and an authorization token for authentication purposes.\n",
    "\n",
    "The above operations are designed to be triggered when the in-house data preparation process is complete. It ensures the data is uploaded to Totango as soon as it is ready, enhancing the speed and timeliness of data integration.\n",
    "\n",
    "For more details on how to trigger an integration using an API endpoint in Totango, you can visit the [official Totango documentation](https://support.totango.com/hc/en-us/articles/360029053931-Trigger-an-integration-using-an-API-endpoint)."
   ]
  },
  {
   "cell_type": "markdown",
   "metadata": {
    "heading_collapsed": true
   },
   "source": [
    "# Libraries"
   ]
  },
  {
   "cell_type": "code",
   "execution_count": 1,
   "metadata": {
    "ExecuteTime": {
     "end_time": "2023-07-10T11:16:28.762495Z",
     "start_time": "2023-07-10T11:16:28.733466Z"
    },
    "hidden": true
   },
   "outputs": [],
   "source": [
    "import csv\n",
    "import http.client\n",
    "import pyodbc\n",
    "import sqlalchemy\n",
    "import sqlalchemy as db\n",
    "from sqlalchemy import event"
   ]
  },
  {
   "cell_type": "markdown",
   "metadata": {},
   "source": [
    "# DefiningTrigger_CDH_API Functon"
   ]
  },
  {
   "cell_type": "code",
   "execution_count": null,
   "metadata": {},
   "outputs": [],
   "source": [
    "# Define a limit for the number of records processed at a time.\n",
    "PROCESSED_LIMIT = 100\n",
    "\n",
    "# Function to trigger CDH API\n",
    "def Trigger_CDH_API(data, Token, Service_id):\n",
    "      \n",
    "    # Create a secure HTTPS connection to the int-hub at totango.com\n",
    "    conn = http.client.HTTPSConnection(\"int-hub.totango.com\")\n",
    "    \n",
    "    # The payload is the data we want to send, taken from the function's arguments\n",
    "    payload = data\n",
    "\n",
    "    # Define headers for the HTTP request\n",
    "    headers = {\n",
    "        'content-type': 'application/json',\n",
    "        'Authorization': 'app-token ' + #Please Enter 64 char Token Here\n",
    "        'service_id': #Please Enter Service ID of your Totango instance only numbers e.g. 'service_id': '12345'\n",
    "    }\n",
    "\n",
    "    # Make a POST request to the \"/api/v1/accounts\" endpoint with the payload and headers\n",
    "    conn.request(\"POST\", \"/api/v1/accounts\", payload, headers)\n",
    "\n",
    "    # Get the HTTP response\n",
    "    res = conn.getresponse()\n",
    "\n",
    "    # Read the response data\n",
    "    data = res.read()\n",
    "\n",
    "    # Print the response data, decoding it from bytes to string\n",
    "    print(data.decode(\"utf-8\"))"
   ]
  },
  {
   "cell_type": "markdown",
   "metadata": {},
   "source": [
    "# Establishing Connection and Triggering CDH API"
   ]
  },
  {
   "cell_type": "code",
   "execution_count": null,
   "metadata": {},
   "outputs": [],
   "source": [
    "# Define your service id and token\n",
    "Service_id = 12345\n",
    "Token = #Enter your token here in double quotes\n",
    "\n",
    "# Open the CSV file\n",
    "with open('C:/Users/PUT_YOUR_CSV_HERE.csv', 'r') as f:\n",
    "    # Use csv.DictReader to read the CSV file\n",
    "    d_reader = csv.DictReader(f)\n",
    "\n",
    "    # Get fieldnames from DictReader object and store in list\n",
    "    headers = d_reader.fieldnames\n",
    "\n",
    "    # Get the first column Id\n",
    "    col_Id = headers[0]\n",
    "\n",
    "    # Print the headers\n",
    "    print(headers)\n",
    "\n",
    "    # Initialize variables\n",
    "    rows_processed = 0\n",
    "    acc_json = ''\n",
    "\n",
    "    # Loop through each line in the CSV reader\n",
    "    for line in d_reader:\n",
    "        in_attributes = False\n",
    "        rows_processed += 1\n",
    "\n",
    "        # Loop through each column in the headers\n",
    "        for col in headers:\n",
    "            if (col == col_Id):\n",
    "                # If not the first row, append a comma to the JSON string\n",
    "                if (rows_processed > 1):\n",
    "                    acc_json += ','\n",
    "                # Start a new JSON object for the account\n",
    "                acc_json += '{\"id\": \"' + line[col_Id] + '\",\"attributes\": {'\n",
    "            else:\n",
    "                # If not the first attribute, append a comma to the JSON string\n",
    "                if (in_attributes):\n",
    "                    acc_json += ','\n",
    "                # Add an attribute to the JSON object\n",
    "                acc_json += '\"' + col + '\":\"' + line[col] + '\"'\n",
    "                in_attributes = True\n",
    "\n",
    "        # End the attributes dictionary and the account JSON object\n",
    "        acc_json += '}}'\n",
    "        \n",
    "        # If we have reached the limit of processed rows, trigger the API\n",
    "        if (rows_processed == PROCESSED_LIMIT):\n",
    "            Trigger_CDH_API('{\"accounts\": [' + acc_json + ']}', Token, Service_id)\n",
    "            acc_json = ''\n",
    "            rows_processed = 0\n",
    "\n",
    "    # If there are remaining rows less than the processed limit, trigger the API\n",
    "    if (rows_processed < PROCESSED_LIMIT):\n",
    "        Trigger_CDH_API('{\"accounts\": [' + acc_json + ']}', Token, Service_id)\n"
   ]
  }
 ],
 "metadata": {
  "kernelspec": {
   "display_name": "Python 3",
   "language": "python",
   "name": "python3"
  },
  "language_info": {
   "codemirror_mode": {
    "name": "ipython",
    "version": 3
   },
   "file_extension": ".py",
   "mimetype": "text/x-python",
   "name": "python",
   "nbconvert_exporter": "python",
   "pygments_lexer": "ipython3",
   "version": "3.8.5"
  }
 },
 "nbformat": 4,
 "nbformat_minor": 2
}
