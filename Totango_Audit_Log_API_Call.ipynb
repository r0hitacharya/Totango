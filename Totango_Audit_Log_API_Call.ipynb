{
 "cells": [
  {
   "cell_type": "markdown",
   "metadata": {
    "ExecuteTime": {
     "end_time": "2023-07-07T17:09:27.177956Z",
     "start_time": "2023-07-07T17:09:25.733806Z"
    }
   },
   "source": [
    "# Totango Audit Log API Interaction\n",
    "\n",
    "This script is designed to interact with the Totango Audit Log API, which provides an interface to retrieve event data from your Totango account.\n",
    "\n",
    "## Functionality\n",
    "\n",
    "By default, the script retrieves data for the previous month. However, it can be customized to fetch data for any date range by specifying the `start` and `end` dates.\n",
    "\n",
    "The API requires an 'app-token' for authentication which needs to be provided in the request headers. The token is unique to your Totango account.\n",
    "\n",
    "## How to Run\n",
    "\n",
    "1. Replace the placeholder text 'place your token here' with your unique 'app-token' in the headers section.\n",
    "2. If required, modify the `start` and `end` dates to fetch data for a specific date range.\n",
    "3. Run the script to retrieve and print the audit log data for the specified date range.\n",
    "\n",
    "## References\n",
    "\n",
    "For more details about the Totango Audit Log API, refer to the [official documentation](https://support.totango.com/hc/en-us/articles/360000745586-Audit-log-API).\n"
   ]
  },
  {
   "cell_type": "markdown",
   "metadata": {
    "ExecuteTime": {
     "end_time": "2023-07-07T17:25:35.564348Z",
     "start_time": "2023-07-07T17:25:35.548828Z"
    }
   },
   "source": [
    "# Libraries"
   ]
  },
  {
   "cell_type": "code",
   "execution_count": null,
   "metadata": {},
   "outputs": [],
   "source": [
    "import datetime\n",
    "import json\n",
    "import pandas as pd\n",
    "import requests\n",
    "from pandas.io.json import json_normalize\n",
    "from dateutil.relativedelta import relativedelta"
   ]
  },
  {
   "cell_type": "markdown",
   "metadata": {
    "heading_collapsed": true
   },
   "source": [
    "# Determining Start and End Date for API Parameters"
   ]
  },
  {
   "cell_type": "code",
   "execution_count": 2,
   "metadata": {
    "ExecuteTime": {
     "end_time": "2023-07-07T17:09:27.208957Z",
     "start_time": "2023-07-07T17:09:27.180958Z"
    },
    "hidden": true
   },
   "outputs": [
    {
     "name": "stdout",
     "output_type": "stream",
     "text": [
      "Pinging AuditLog with the following date range\n",
      "Start_date: (>=) 2023-06-01 End_date: (<) 2023-06-30\n"
     ]
    }
   ],
   "source": [
    "#determine start and end date to be passed onto parameter for the API\n",
    "#if a particular date is required replace the start and end variable with date in yyyy-mm-dd format\n",
    "today=datetime.date.today()\n",
    "start = today - relativedelta(months=1)\n",
    "start = start - relativedelta(days=today.day-1)\n",
    "end = today - relativedelta(months=0)\n",
    "end = end - relativedelta(days=today.day)\n",
    "\n",
    "print(\"Pinging AuditLog with the following date range\")\n",
    "print (\"Start_date: (>=)\",start,\"End_date: (<)\",end)"
   ]
  },
  {
   "cell_type": "markdown",
   "metadata": {},
   "source": [
    "# API Call"
   ]
  },
  {
   "cell_type": "code",
   "execution_count": 3,
   "metadata": {
    "ExecuteTime": {
     "end_time": "2023-07-07T17:09:41.603121Z",
     "start_time": "2023-07-07T17:09:30.799782Z"
    }
   },
   "outputs": [],
   "source": [
    "#the autherization token needs to be obtained from totango and passed in the header\n",
    "headers = {\n",
    "    'app-token':\n",
    "    'PLACE YOUR TOKEN HERE',\n",
    "}\n",
    "\n",
    "params = (\n",
    "    ('startDate', start),\n",
    "    ('endDate',end),\n",
    " )\n",
    "\n",
    "response = requests.get('https://api.totango.com/api/v2/audit', headers=headers, params=params)"
   ]
  },
  {
   "cell_type": "code",
   "execution_count": null,
   "metadata": {},
   "outputs": [],
   "source": [
    "# Convert the API response to a JSON object\n",
    "data = response.json()\n",
    "\n",
    "# Normalize semi-structured JSON data into a flat table\n",
    "data = pd.json_normalize(data)\n",
    "\n",
    "# Convert the 'timestamp' column in the DataFrame to datetime format for better manipulation\n",
    "data['timestamp'] = pd.to_datetime(data['timestamp'])\n",
    "\n",
    "# Capitalize the first letter of each word in the 'action' column of the DataFrame\n",
    "data.action = data.action.str.title()"
   ]
  }
 ],
 "metadata": {
  "kernelspec": {
   "display_name": "Python 3",
   "language": "python",
   "name": "python3"
  },
  "language_info": {
   "codemirror_mode": {
    "name": "ipython",
    "version": 3
   },
   "file_extension": ".py",
   "mimetype": "text/x-python",
   "name": "python",
   "nbconvert_exporter": "python",
   "pygments_lexer": "ipython3",
   "version": "3.8.5"
  }
 },
 "nbformat": 4,
 "nbformat_minor": 2
}
